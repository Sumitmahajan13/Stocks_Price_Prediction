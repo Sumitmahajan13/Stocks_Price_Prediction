def fetch_stock_data(symbol, start_date='2005-01-01'):
    """Fetch stock data from Yahoo Finance."""
    end_date = date.today().strftime('%Y-%m-%d')
    df = yf.download(symbol, start_date, end_date)
    return df

# Fetch data for demonstration (using SBIN.NS as example)
df = fetch_stock_data('AAL')
print(f"Data shape: {df.shape}")
df.head()